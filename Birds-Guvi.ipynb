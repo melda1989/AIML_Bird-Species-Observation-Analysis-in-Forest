{
 "cells": [
  {
   "cell_type": "code",
   "execution_count": null,
   "id": "9f4d16a4-22c6-46d1-bd95-8f9b6992b238",
   "metadata": {},
   "outputs": [],
   "source": [
    "import pandas as pd\n",
    "import numpy as np\n",
    "\n",
    "# Load all sheets from Forest Excel file\n",
    "xls_forest = pd.ExcelFile(r'C:\\Users\\DAVID\\Downloads\\Bird_Monitoring_Data_FOREST.xlsx')\n",
    "df_forest = pd.concat([\n",
    "    xls_forest.parse(sheet).assign(Habitat_Type='Forest')\n",
    "    for sheet in xls_forest.sheet_names\n",
    "], ignore_index=True)\n",
    "\n",
    "# Load all sheets from Grassland Excel file\n",
    "xls_grass = pd.ExcelFile(r'C:\\Users\\DAVID\\Downloads\\Bird_Monitoring_Data_GRASSLAND.xlsx')\n",
    "df_grass = pd.concat([\n",
    "    xls_grass.parse(sheet).assign(Habitat_Type='Grassland')\n",
    "    for sheet in xls_grass.sheet_names\n",
    "], ignore_index=True)\n",
    "\n",
    "# Merging both DF\n",
    "\n",
    "df_combined = pd.concat([df_forest, df_grass], ignore_index=True)\n",
    "\n",
    "# Date and Time formatting\n",
    "\n",
    "df_combined['Date'] = pd.to_datetime(df_combined['Date'], errors='coerce')\n",
    "df_combined['Start_Time'] = pd.to_datetime(df_combined['Start_Time'], format='%H:%M:%S', errors='coerce').dt.time\n",
    "df_combined['End_Time'] = pd.to_datetime(df_combined['End_Time'], format='%H:%M:%S', errors='coerce').dt.time\n",
    "\n",
    "# Missing values\n",
    "# Fill NA for Sex\n",
    "df_combined['Sex'] = df_combined['Sex'].fillna('Undetermined')\n",
    "\n",
    "# Fill NA for Flyover_Observed\n",
    "df_combined['Flyover_Observed'] = df_combined['Flyover_Observed'].fillna('FALSE')\n",
    "\n",
    "# Fill Disturbance with \"Unknown\" if missing\n",
    "df_combined['Disturbance'] = df_combined['Disturbance'].fillna('Unknown')\n",
    "\n",
    "# Optionally drop rows with missing key identifiers\n",
    "df_combined = df_combined.dropna(subset=['Scientific_Name', 'Common_Name'])\n",
    "\n",
    "# Normalize category fields\n",
    "df_combined['Flyover_Observed'] = df_combined['Flyover_Observed'].astype(str).str.upper().replace({'TRUE': 'Yes', 'FALSE': 'No'})\n",
    "df_combined['Sex'] = df_combined['Sex'].replace({'M': 'Male', 'F': 'Female'}).str.capitalize()\n",
    "df_combined['Location_Type'] = df_combined['Location_Type'].str.capitalize()\n",
    "\n",
    "# Save Cleaned Data\n",
    "\n",
    "df_combined.to_csv('C:\\\\Users\\\\DAVID\\\\Downloads\\\\cleaned_combined_data.csv', index=False)\n",
    "\n",
    "print(\"Data cleaning and merging completed successfully.\")\n",
    "print(\"Shape of cleaned data:\", df_combined.shape)"
   ]
  },
  {
   "cell_type": "code",
   "execution_count": null,
   "id": "3d90ac7c-aa46-4fcb-835c-81ab0cb245f7",
   "metadata": {},
   "outputs": [],
   "source": [
    "# Temporal Analysis"
   ]
  },
  {
   "cell_type": "code",
   "execution_count": null,
   "id": "d7b952a2-12c4-4ea2-87da-61c297f77b81",
   "metadata": {},
   "outputs": [],
   "source": [
    "# Convert Date to datetime format\n",
    "df_combined['Date'] = pd.to_datetime(df_combined['Date'], errors='coerce')\n",
    "\n",
    "# Convert 'Start_Time' and 'End_Time' to time format\n",
    "df_combined['Start_Time'] = pd.to_datetime(df_combined['Start_Time'], format='%H:%M:%S', errors='coerce').dt.time\n",
    "df_combined['End_Time'] = pd.to_datetime(df_combined['End_Time'], format='%H:%M:%S', errors='coerce').dt.time"
   ]
  },
  {
   "cell_type": "code",
   "execution_count": null,
   "id": "fa5a5467-31b3-4933-8bd7-fcaf2fa2e428",
   "metadata": {},
   "outputs": [],
   "source": [
    "import pandas as pd\n",
    "import matplotlib.pyplot as plt\n",
    "import seaborn as sns\n",
    "import plotly.express as px\n",
    "\n",
    "# Load cleaned data\n",
    "df = pd.read_csv('C:\\\\Users\\\\DAVID\\\\Downloads\\\\cleaned_combined_data.csv', parse_dates=['Date'])\n",
    "\n",
    "# Display basic info\n",
    "df.info()"
   ]
  },
  {
   "cell_type": "code",
   "execution_count": null,
   "id": "cc95af41-9cf0-4589-bd3e-b703e3437310",
   "metadata": {},
   "outputs": [],
   "source": [
    "# Extract Year and Month from Date"
   ]
  },
  {
   "cell_type": "code",
   "execution_count": null,
   "id": "0ae5257d-5beb-40a0-9a6d-8a4ab113b644",
   "metadata": {},
   "outputs": [],
   "source": [
    "df['Year'] = df['Date'].dt.year\n",
    "df['Month'] = df['Date'].dt.month_name()\n",
    "df['Month_Num'] = df['Date'].dt.month  # for sorting"
   ]
  },
  {
   "cell_type": "code",
   "execution_count": null,
   "id": "8e4dc0e5-cccb-4816-9853-cf78298275c4",
   "metadata": {},
   "outputs": [],
   "source": [
    " # Line Plot: Year vs Observation Count"
   ]
  },
  {
   "cell_type": "code",
   "execution_count": null,
   "id": "714c8988-ce1d-407d-aafd-71024fc4ca8a",
   "metadata": {},
   "outputs": [],
   "source": [
    "yearly_counts = df.groupby('Year').size().reset_index(name='Observations')\n",
    "\n",
    "fig = px.line(yearly_counts, x='Year', y='Observations', title='Yearly Bird Observations')\n",
    "fig.show()"
   ]
  },
  {
   "cell_type": "code",
   "execution_count": null,
   "id": "f2409971-e141-4b27-8815-1cdb826de93a",
   "metadata": {},
   "outputs": [],
   "source": [
    "#  Heatmap: Year x Month Sightings"
   ]
  },
  {
   "cell_type": "code",
   "execution_count": null,
   "id": "18a986e7-e150-41cb-996d-b0feaafffbac",
   "metadata": {},
   "outputs": [],
   "source": [
    "import calendar"
   ]
  },
  {
   "cell_type": "code",
   "execution_count": null,
   "id": "693ca4ad-2fbd-4ce7-82d1-450dfcdcef12",
   "metadata": {},
   "outputs": [],
   "source": [
    "heatmap_data = df.groupby(['Year', 'Month_Num']).size().unstack().fillna(0)\n",
    "heatmap_data.columns = [calendar.month_abbr[i] for i in heatmap_data.columns]\n",
    "\n",
    "plt.figure(figsize=(12, 6))\n",
    "sns.heatmap(heatmap_data, cmap='YlGnBu', annot=True, fmt='g')\n",
    "plt.title(\"Monthly Bird Sightings by Year\")\n",
    "plt.xlabel(\"Month\")\n",
    "plt.ylabel(\"Year\")\n",
    "plt.tight_layout()\n",
    "plt.show()"
   ]
  },
  {
   "cell_type": "code",
   "execution_count": null,
   "id": "336f37f7-0936-4bb4-b28f-77efff1f0a9c",
   "metadata": {},
   "outputs": [],
   "source": [
    "# Histogram: Start Time Distribution (Bird Activity)"
   ]
  },
  {
   "cell_type": "code",
   "execution_count": null,
   "id": "8ab03cda-08c2-47e8-9ab2-1d627850627b",
   "metadata": {},
   "outputs": [],
   "source": [
    "df['Start_Hour'] = pd.to_datetime(df['Start_Time'], errors='coerce').dt.hour\n",
    "\n",
    "plt.figure(figsize=(10, 5))\n",
    "sns.histplot(df['Start_Hour'].dropna(), bins=24, kde=False)\n",
    "plt.title(\"Bird Observation Frequency by Hour of Day\")\n",
    "plt.xlabel(\"Hour (Start_Time)\")\n",
    "plt.ylabel(\"Number of Observations\")\n",
    "plt.grid(True)\n",
    "plt.show()"
   ]
  },
  {
   "cell_type": "code",
   "execution_count": null,
   "id": "da35696a-e02f-4e25-8236-cc24dfcdad9d",
   "metadata": {},
   "outputs": [],
   "source": [
    "# Spatial Analysis"
   ]
  },
  {
   "cell_type": "code",
   "execution_count": null,
   "id": "78ae9aca-e912-4802-b0c2-b5da4f94cd10",
   "metadata": {},
   "outputs": [],
   "source": [
    "# Top 10 Plots by Observation Count"
   ]
  },
  {
   "cell_type": "code",
   "execution_count": null,
   "id": "0c5701a8-a0b4-4632-b5fb-f7e15c4aba0e",
   "metadata": {},
   "outputs": [],
   "source": [
    "top_plots = df['Plot_Name'].value_counts().nlargest(10).reset_index()\n",
    "top_plots.columns = ['Plot_Name', 'Observations']\n",
    "\n",
    "fig = px.bar(top_plots, x='Plot_Name', y='Observations', title='Top 10 Active Plots')\n",
    "fig.show()"
   ]
  },
  {
   "cell_type": "code",
   "execution_count": null,
   "id": "0ccbe9fa-6296-467e-85a5-355e3b6f0151",
   "metadata": {},
   "outputs": [],
   "source": [
    "# Bar Chart: Location_Type vs Unique Species Count"
   ]
  },
  {
   "cell_type": "code",
   "execution_count": null,
   "id": "5aa1a769-b35d-465e-9476-1adbc6a24379",
   "metadata": {},
   "outputs": [],
   "source": [
    "species_diversity = df.groupby('Location_Type')['Scientific_Name'].nunique().reset_index()\n",
    "species_diversity.columns = ['Location_Type', 'Unique_Species']\n",
    "\n",
    "fig = px.bar(species_diversity, x='Location_Type', y='Unique_Species', title='Species Diversity by Habitat Type')\n",
    "fig.show()"
   ]
  },
  {
   "cell_type": "code",
   "execution_count": null,
   "id": "46d0482e-2a5a-4cd8-9d76-07fdaf8235d4",
   "metadata": {},
   "outputs": [],
   "source": [
    "#  Pie Chart: Species Distribution in Top 5 Plots"
   ]
  },
  {
   "cell_type": "code",
   "execution_count": null,
   "id": "aeb538a9-62ea-4c95-b116-140f1cce08e4",
   "metadata": {},
   "outputs": [],
   "source": [
    "top_5_plots = df['Plot_Name'].value_counts().nlargest(5).index\n",
    "top_species_in_top5 = df[df['Plot_Name'].isin(top_5_plots)]\n",
    "\n",
    "species_distribution = top_species_in_top5['Scientific_Name'].value_counts().nlargest(5).reset_index()\n",
    "species_distribution.columns = ['Scientific_Name', 'Count']\n",
    "\n",
    "fig = px.pie(species_distribution, names='Scientific_Name', values='Count', \n",
    "             title='Species Distribution in Top 5 Plots')\n",
    "fig.show()"
   ]
  },
  {
   "cell_type": "code",
   "execution_count": null,
   "id": "02e31b1a-7a0c-494f-816f-810c8c15e005",
   "metadata": {},
   "outputs": [],
   "source": [
    "import plotly.express as px\n",
    "import seaborn as sns\n",
    "import matplotlib.pyplot as plt"
   ]
  },
  {
   "cell_type": "code",
   "execution_count": null,
   "id": "d4fcb75c-d398-4504-ae84-a1f53dc42862",
   "metadata": {},
   "outputs": [],
   "source": [
    "# SPECIES ANALYSIS"
   ]
  },
  {
   "cell_type": "code",
   "execution_count": null,
   "id": "9e15b986-2703-434d-aeed-01c9f4f566c1",
   "metadata": {},
   "outputs": [],
   "source": [
    "# Top 10 Most Observed Species (Scientific_Name)"
   ]
  },
  {
   "cell_type": "code",
   "execution_count": null,
   "id": "21773b80-746a-4fa9-9e05-486291b9aab9",
   "metadata": {},
   "outputs": [],
   "source": [
    "top_species = df['Scientific_Name'].value_counts().nlargest(10).reset_index()\n",
    "top_species.columns = ['Scientific_Name', 'Observation_Count']\n",
    "\n",
    "fig = px.bar(top_species, x='Scientific_Name', y='Observation_Count',\n",
    "             title='Top 10 Most Observed Bird Species')\n",
    "fig.show()"
   ]
  },
  {
   "cell_type": "code",
   "execution_count": null,
   "id": "64763cc9-0e8a-4a73-aa6e-f3cbeaaa2fa4",
   "metadata": {},
   "outputs": [],
   "source": [
    "# Observation Method (ID_Method) Distribution"
   ]
  },
  {
   "cell_type": "code",
   "execution_count": null,
   "id": "cf8c67d3-ade8-41eb-b737-797255376b64",
   "metadata": {},
   "outputs": [],
   "source": [
    "id_method_counts = df['ID_Method'].value_counts().reset_index()\n",
    "id_method_counts.columns = ['ID_Method', 'Count']\n",
    "\n",
    "fig = px.bar(id_method_counts, x='ID_Method', y='Count',\n",
    "             title='Species Identification Methods Used')\n",
    "fig.show()"
   ]
  },
  {
   "cell_type": "code",
   "execution_count": null,
   "id": "2b99f440-03c5-4a79-8d1a-a549049a7930",
   "metadata": {},
   "outputs": [],
   "source": [
    "# Sex Distribution per Species (Top 5 Only for Clarity)"
   ]
  },
  {
   "cell_type": "code",
   "execution_count": null,
   "id": "18b48500-e29d-455d-88cd-e155c58e2971",
   "metadata": {},
   "outputs": [],
   "source": [
    "# Filter top 5 species\n",
    "top5_species = df['Scientific_Name'].value_counts().nlargest(5).index\n",
    "sex_dist = df[df['Scientific_Name'].isin(top5_species)]\n",
    "\n",
    "# Group and plot\n",
    "sex_group = sex_dist.groupby(['Scientific_Name', 'Sex']).size().reset_index(name='Count')\n",
    "\n",
    "fig = px.bar(sex_group, x='Scientific_Name', y='Count', color='Sex',\n",
    "             title='Sex Distribution in Top 5 Species', barmode='group')\n",
    "fig.show()"
   ]
  },
  {
   "cell_type": "code",
   "execution_count": null,
   "id": "402a6221-d4dc-4301-b1b6-60768647c98b",
   "metadata": {},
   "outputs": [],
   "source": [
    "# ENVIRONMENTAL FACTORS"
   ]
  },
  {
   "cell_type": "code",
   "execution_count": null,
   "id": "d968ec3c-a958-44ef-939a-8881cd1133a2",
   "metadata": {},
   "outputs": [],
   "source": [
    "# Scatter Plot: Temperature vs Bird Count"
   ]
  },
  {
   "cell_type": "code",
   "execution_count": null,
   "id": "625dfeec-f126-4786-bf8e-d29891e8cc63",
   "metadata": {},
   "outputs": [],
   "source": [
    "# Count observations per date & temperature\n",
    "temp_count = df.groupby(['Date', 'Temperature']).size().reset_index(name='Bird_Count')\n",
    "\n",
    "fig = px.scatter(temp_count, x='Temperature', y='Bird_Count',\n",
    "                 title='Temperature vs Bird Count',\n",
    "                 labels={'Bird_Count': 'Number of Observations'})\n",
    "fig.show()"
   ]
  },
  {
   "cell_type": "code",
   "execution_count": null,
   "id": "41270461-ef49-45f6-8bcd-41918d81f2d8",
   "metadata": {},
   "outputs": [],
   "source": [
    "# Boxplot: Humidity by Location Type"
   ]
  },
  {
   "cell_type": "code",
   "execution_count": null,
   "id": "fedc415d-bbab-4a8c-9dd0-6e9b855c9ac9",
   "metadata": {},
   "outputs": [],
   "source": [
    "plt.figure(figsize=(10, 6))\n",
    "sns.boxplot(x='Location_Type', y='Humidity', data=df)\n",
    "plt.title('Humidity Distribution by Habitat Type')\n",
    "plt.xlabel('Habitat')\n",
    "plt.ylabel('Humidity (%)')\n",
    "plt.grid(True)\n",
    "plt.tight_layout()\n",
    "plt.show()"
   ]
  },
  {
   "cell_type": "code",
   "execution_count": null,
   "id": "cb877481-64a3-4636-9262-6087256866b9",
   "metadata": {},
   "outputs": [],
   "source": [
    "# Bar Chart: Wind Condition vs Observations"
   ]
  },
  {
   "cell_type": "code",
   "execution_count": null,
   "id": "92135921-6892-4d95-93e3-6fdd859f3cd4",
   "metadata": {},
   "outputs": [],
   "source": [
    "wind_counts = df['Wind'].value_counts().reset_index()\n",
    "wind_counts.columns = ['Wind_Condition', 'Count']\n",
    "\n",
    "fig = px.bar(wind_counts, x='Wind_Condition', y='Count',\n",
    "             title='Bird Observations by Wind Condition')\n",
    "fig.show()"
   ]
  },
  {
   "cell_type": "code",
   "execution_count": null,
   "id": "bf03c5fb-653f-4250-b477-335967119ab5",
   "metadata": {},
   "outputs": [],
   "source": [
    "# Bar Chart: Sky Condition vs Observations"
   ]
  },
  {
   "cell_type": "code",
   "execution_count": null,
   "id": "4eed0427-8aba-4f1c-b970-a90fab0c83c0",
   "metadata": {},
   "outputs": [],
   "source": [
    "sky_counts = df['Sky'].value_counts().reset_index()\n",
    "sky_counts.columns = ['Sky_Condition', 'Count']\n",
    "\n",
    "fig = px.bar(sky_counts, x='Sky_Condition', y='Count',\n",
    "             title='Bird Observations by Sky Condition')\n",
    "fig.show()"
   ]
  },
  {
   "cell_type": "code",
   "execution_count": null,
   "id": "35074f23-08e8-4f3d-97ee-a616e0b0162b",
   "metadata": {},
   "outputs": [],
   "source": [
    "#  Disturbance Impact"
   ]
  },
  {
   "cell_type": "code",
   "execution_count": null,
   "id": "c9ef21ca-7138-42d4-92a6-34a7c3ce0e38",
   "metadata": {},
   "outputs": [],
   "source": [
    "disturbance_counts = df['Disturbance'].value_counts().reset_index()\n",
    "disturbance_counts.columns = ['Disturbance', 'Observation_Count']\n",
    "\n",
    "fig = px.bar(disturbance_counts, x='Disturbance', y='Observation_Count',\n",
    "             title='Impact of Disturbance on Bird Observations')\n",
    "fig.show()"
   ]
  },
  {
   "cell_type": "code",
   "execution_count": null,
   "id": "95bac394-84bb-4c8e-9177-206200dc3252",
   "metadata": {},
   "outputs": [],
   "source": [
    "# CONSERVATION RISK ANALYSIS"
   ]
  },
  {
   "cell_type": "code",
   "execution_count": null,
   "id": "513f764b-ceae-4871-b74b-cb7b58ba8df1",
   "metadata": {},
   "outputs": [],
   "source": [
    "# Pie Chart: % of Observations on PIF Watchlist"
   ]
  },
  {
   "cell_type": "code",
   "execution_count": null,
   "id": "db197044-a293-4634-b4c4-1285804fd023",
   "metadata": {},
   "outputs": [],
   "source": [
    "# Normalize values to True/False\n",
    "df['PIF_Watchlist_Status'] = df['PIF_Watchlist_Status'].fillna('FALSE').astype(str).str.upper()\n",
    "df['PIF_Watchlist_Status'] = df['PIF_Watchlist_Status'].replace({'TRUE': 'Watchlist', 'FALSE': 'Non-Watchlist'})\n",
    "\n",
    "# Count PIF status\n",
    "pif_counts = df['PIF_Watchlist_Status'].value_counts().reset_index()\n",
    "pif_counts.columns = ['Status', 'Count']\n",
    "\n",
    "# Pie Chart\n",
    "import plotly.express as px\n",
    "\n",
    "fig = px.pie(pif_counts, names='Status', values='Count',\n",
    "             title='% of Bird Observations by PIF Watchlist Status',\n",
    "             color_discrete_sequence=px.colors.sequential.RdBu)\n",
    "fig.show()"
   ]
  },
  {
   "cell_type": "code",
   "execution_count": null,
   "id": "34059787-5677-49d5-912a-870d40470706",
   "metadata": {},
   "outputs": [],
   "source": [
    "# Bar Chart: Regional Stewardship Status by Species"
   ]
  },
  {
   "cell_type": "code",
   "execution_count": null,
   "id": "ea690105-3edd-449b-b2e0-c05ea2898f61",
   "metadata": {},
   "outputs": [],
   "source": [
    "# Fill missing and clean\n",
    "df['Regional_Stewardship_Status'] = df['Regional_Stewardship_Status'].fillna('FALSE').astype(str).str.upper()\n",
    "df['Regional_Stewardship_Status'] = df['Regional_Stewardship_Status'].replace({'TRUE': 'Stewardship', 'FALSE': 'General'})\n",
    "\n",
    "# Group by species and stewardship\n",
    "stewardship_species = df[df['Regional_Stewardship_Status'] == 'Stewardship']\n",
    "species_stewardship = stewardship_species['Scientific_Name'].value_counts().nlargest(10).reset_index()\n",
    "species_stewardship.columns = ['Scientific_Name', 'Observation_Count']\n",
    "\n",
    "# Bar Chart\n",
    "fig = px.bar(species_stewardship, x='Scientific_Name', y='Observation_Count',\n",
    "             title='Top 10 Stewardship Species by Observations')\n",
    "fig.show()"
   ]
  },
  {
   "cell_type": "code",
   "execution_count": null,
   "id": "59a27cba-6115-427c-9910-a84204ad4ca5",
   "metadata": {},
   "outputs": [],
   "source": [
    "# Bar Chart: AOU_Code vs Observation Count"
   ]
  },
  {
   "cell_type": "code",
   "execution_count": null,
   "id": "6bb98c7e-ae4c-4620-ab13-1d0337fdc536",
   "metadata": {},
   "outputs": [],
   "source": [
    "# Group by AOU code\n",
    "aou_counts = df['AOU_Code'].value_counts().nlargest(15).reset_index()\n",
    "aou_counts.columns = ['AOU_Code', 'Observation_Count']\n",
    "\n",
    "# Bar Chart\n",
    "fig = px.bar(aou_counts, x='AOU_Code', y='Observation_Count',\n",
    "             title='Top 15 AOU Codes by Observation Count')\n",
    "fig.show()"
   ]
  },
  {
   "cell_type": "code",
   "execution_count": null,
   "id": "517135af-e221-4040-b470-9092b2f9e39e",
   "metadata": {},
   "outputs": [],
   "source": [
    "import mysql.connector\n",
    "\n",
    "# Connect to your MySQL database\n",
    "conn = mysql.connector.connect(\n",
    "    host='localhost',\n",
    "    user='root',\n",
    "    password='Melmir@123',\n",
    "    database='david'\n",
    ")\n",
    "cursor = conn.cursor()"
   ]
  },
  {
   "cell_type": "code",
   "execution_count": null,
   "id": "9a240fe2-6d7f-4e71-9404-407ae774b11c",
   "metadata": {},
   "outputs": [],
   "source": [
    "# Create bird_observations Table"
   ]
  },
  {
   "cell_type": "code",
   "execution_count": null,
   "id": "085e8aa9-dc37-43a8-a332-21730d48323c",
   "metadata": {},
   "outputs": [],
   "source": [
    "create_table_query = \"\"\"\n",
    "CREATE TABLE IF NOT EXISTS bird_observations (\n",
    "    id INT AUTO_INCREMENT PRIMARY KEY,\n",
    "    Admin_Unit_Code VARCHAR(50),\n",
    "    Sub_Unit_Code VARCHAR(50),\n",
    "    Site_Name VARCHAR(255),\n",
    "    Plot_Name VARCHAR(255),\n",
    "    Location_Type VARCHAR(50),\n",
    "    Year INT,\n",
    "    Date DATE,\n",
    "    Start_Time TIME,\n",
    "    End_Time TIME,\n",
    "    Observer VARCHAR(100),\n",
    "    Visit INT,\n",
    "    Interval_Length VARCHAR(50),\n",
    "    ID_Method VARCHAR(100),\n",
    "    Distance VARCHAR(50),\n",
    "    Flyover_Observed VARCHAR(10),\n",
    "    Sex VARCHAR(20),\n",
    "    Common_Name VARCHAR(255),\n",
    "    Scientific_Name VARCHAR(255),\n",
    "    AcceptedTSN VARCHAR(50),\n",
    "    NPSTaxonCode VARCHAR(50),\n",
    "    AOU_Code VARCHAR(20),\n",
    "    PIF_Watchlist_Status VARCHAR(20),\n",
    "    Regional_Stewardship_Status VARCHAR(20),\n",
    "    Temperature FLOAT,\n",
    "    Humidity FLOAT,\n",
    "    Sky VARCHAR(100),\n",
    "    Wind VARCHAR(100),\n",
    "    Disturbance VARCHAR(255),\n",
    "    Initial_Three_Min_Cnt INT,\n",
    "    Habitat_Type VARCHAR(50)\n",
    ");\n",
    "\"\"\"\n",
    "\n",
    "cursor.execute(create_table_query)\n",
    "conn.commit()"
   ]
  },
  {
   "cell_type": "code",
   "execution_count": null,
   "id": "0e10d1b1-479e-4de8-91d0-80bcf1a4407d",
   "metadata": {},
   "outputs": [],
   "source": [
    "df = pd.read_csv('C:\\\\Users\\\\DAVID\\\\Downloads\\\\cleaned_combined_data.csv', low_memory=False)"
   ]
  },
  {
   "cell_type": "code",
   "execution_count": null,
   "id": "e25f1180-ff4a-474d-b219-922f9ed5072d",
   "metadata": {},
   "outputs": [],
   "source": [
    "df = pd.read_csv('C:\\\\Users\\\\DAVID\\\\Downloads\\\\cleaned_combined_data.csv', dtype={'Sub_Unit_Code': str, 'AOU_Code': str, 'Initial_Three_Min_Cnt': float}, low_memory=False)"
   ]
  },
  {
   "cell_type": "code",
   "execution_count": null,
   "id": "00b147b5-6534-4194-8314-78f70216dd55",
   "metadata": {},
   "outputs": [],
   "source": [
    "columns_needed = [\n",
    "    'Admin_Unit_Code', 'Sub_Unit_Code', 'Site_Name', 'Plot_Name', 'Location_Type',\n",
    "    'Year', 'Date', 'Start_Time', 'End_Time', 'Observer', 'Visit',\n",
    "    'Interval_Length', 'ID_Method', 'Distance', 'Flyover_Observed', 'Sex',\n",
    "    'Common_Name', 'Scientific_Name', 'AcceptedTSN', 'NPSTaxonCode', 'AOU_Code',\n",
    "    'PIF_Watchlist_Status', 'Regional_Stewardship_Status', 'Temperature', 'Humidity',\n",
    "    'Sky', 'Wind', 'Disturbance', 'Initial_Three_Min_Cnt', 'Habitat_Type'\n",
    "]\n",
    "\n",
    "# Filter and reorder your dataframe\n",
    "df = df[columns_needed]\n",
    "df = df.where(pd.notnull(df), None)  # Replace NaNs with None"
   ]
  },
  {
   "cell_type": "code",
   "execution_count": null,
   "id": "37bae032-2b84-4fde-8227-c30cce017e39",
   "metadata": {},
   "outputs": [],
   "source": [
    "insert_query = \"\"\"\n",
    "INSERT INTO bird_observations (\n",
    "    Admin_Unit_Code, Sub_Unit_Code, Site_Name, Plot_Name, Location_Type, Year, Date,\n",
    "    Start_Time, End_Time, Observer, Visit, Interval_Length, ID_Method, Distance,\n",
    "    Flyover_Observed, Sex, Common_Name, Scientific_Name, AcceptedTSN, NPSTaxonCode,\n",
    "    AOU_Code, PIF_Watchlist_Status, Regional_Stewardship_Status, Temperature, Humidity,\n",
    "    Sky, Wind, Disturbance, Initial_Three_Min_Cnt, Habitat_Type\n",
    ")\n",
    "VALUES (%s, %s, %s, %s, %s, %s, %s, %s, %s, %s, %s, %s, %s, %s, %s, %s, %s, %s, %s, %s,\n",
    "        %s, %s, %s, %s, %s, %s, %s, %s, %s, %s)\n",
    "\"\"\""
   ]
  },
  {
   "cell_type": "code",
   "execution_count": null,
   "id": "947aa299-a269-4f4b-9e68-ab3795f16ba4",
   "metadata": {},
   "outputs": [],
   "source": [
    "inserted = 0\n",
    "for i, row in df.iterrows():\n",
    "    try:\n",
    "        cursor.execute(insert_query, tuple(row))\n",
    "        inserted += 1\n",
    "    except Exception as e:\n",
    "        print(f\"❌ Row {i} failed: {e}\")\n",
    "\n",
    "conn.commit()\n",
    "print(f\"✅ {inserted} rows inserted successfully.\")"
   ]
  },
  {
   "cell_type": "code",
   "execution_count": null,
   "id": "2cb1e633-a6bc-4e60-b3b4-934c9d287c71",
   "metadata": {},
   "outputs": [],
   "source": []
  }
 ],
 "metadata": {
  "kernelspec": {
   "display_name": "Python [conda env:base] *",
   "language": "python",
   "name": "conda-base-py"
  },
  "language_info": {
   "codemirror_mode": {
    "name": "ipython",
    "version": 3
   },
   "file_extension": ".py",
   "mimetype": "text/x-python",
   "name": "python",
   "nbconvert_exporter": "python",
   "pygments_lexer": "ipython3",
   "version": "3.12.7"
  }
 },
 "nbformat": 4,
 "nbformat_minor": 5
}
